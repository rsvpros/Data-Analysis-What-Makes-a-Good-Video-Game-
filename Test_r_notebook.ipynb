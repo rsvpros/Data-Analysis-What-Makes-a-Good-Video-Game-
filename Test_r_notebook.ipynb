{
  "nbformat": 4,
  "nbformat_minor": 0,
  "metadata": {
    "colab": {
      "provenance": [],
      "authorship_tag": "ABX9TyMQcR5weOQaWsnpGX0yyEi2",
      "include_colab_link": true
    },
    "kernelspec": {
      "name": "ir",
      "display_name": "R"
    },
    "language_info": {
      "name": "R"
    }
  },
  "cells": [
    {
      "cell_type": "markdown",
      "metadata": {
        "id": "view-in-github",
        "colab_type": "text"
      },
      "source": [
        "<a href=\"https://colab.research.google.com/github/rsvpros/Data-Analysis-What-Makes-a-Good-Video-Game-/blob/main/Test_r_notebook.ipynb\" target=\"_parent\"><img src=\"https://colab.research.google.com/assets/colab-badge.svg\" alt=\"Open In Colab\"/></a>"
      ]
    },
    {
      "cell_type": "code",
      "execution_count": 5,
      "metadata": {
        "colab": {
          "base_uri": "https://localhost:8080/",
          "height": 495
        },
        "id": "d9s1oaf3EC1g",
        "outputId": "bf34ceb2-254e-48e8-ef55-dc7bdee17fbd"
      },
      "outputs": [
        {
          "output_type": "stream",
          "name": "stdout",
          "text": [
            "test  hello world\n",
            "\n",
            "\n"
          ]
        },
        {
          "output_type": "display_data",
          "data": {
            "text/html": [
              "<table class=\"dataframe\">\n",
              "<caption>A data.frame: 11 × 3</caption>\n",
              "<thead>\n",
              "\t<tr><th scope=col>x</th><th scope=col>y</th><th scope=col>z</th></tr>\n",
              "\t<tr><th scope=col>&lt;int&gt;</th><th scope=col>&lt;int&gt;</th><th scope=col>&lt;int&gt;</th></tr>\n",
              "</thead>\n",
              "<tbody>\n",
              "\t<tr><td> 0</td><td>20</td><td>30</td></tr>\n",
              "\t<tr><td> 1</td><td>21</td><td>31</td></tr>\n",
              "\t<tr><td> 2</td><td>22</td><td>32</td></tr>\n",
              "\t<tr><td> 3</td><td>23</td><td>33</td></tr>\n",
              "\t<tr><td> 4</td><td>24</td><td>34</td></tr>\n",
              "\t<tr><td> 5</td><td>25</td><td>35</td></tr>\n",
              "\t<tr><td> 6</td><td>26</td><td>36</td></tr>\n",
              "\t<tr><td> 7</td><td>27</td><td>37</td></tr>\n",
              "\t<tr><td> 8</td><td>28</td><td>38</td></tr>\n",
              "\t<tr><td> 9</td><td>29</td><td>39</td></tr>\n",
              "\t<tr><td>10</td><td>30</td><td>40</td></tr>\n",
              "</tbody>\n",
              "</table>\n"
            ],
            "text/markdown": "\nA data.frame: 11 × 3\n\n| x &lt;int&gt; | y &lt;int&gt; | z &lt;int&gt; |\n|---|---|---|\n|  0 | 20 | 30 |\n|  1 | 21 | 31 |\n|  2 | 22 | 32 |\n|  3 | 23 | 33 |\n|  4 | 24 | 34 |\n|  5 | 25 | 35 |\n|  6 | 26 | 36 |\n|  7 | 27 | 37 |\n|  8 | 28 | 38 |\n|  9 | 29 | 39 |\n| 10 | 30 | 40 |\n\n",
            "text/latex": "A data.frame: 11 × 3\n\\begin{tabular}{lll}\n x & y & z\\\\\n <int> & <int> & <int>\\\\\n\\hline\n\t  0 & 20 & 30\\\\\n\t  1 & 21 & 31\\\\\n\t  2 & 22 & 32\\\\\n\t  3 & 23 & 33\\\\\n\t  4 & 24 & 34\\\\\n\t  5 & 25 & 35\\\\\n\t  6 & 26 & 36\\\\\n\t  7 & 27 & 37\\\\\n\t  8 & 28 & 38\\\\\n\t  9 & 29 & 39\\\\\n\t 10 & 30 & 40\\\\\n\\end{tabular}\n",
            "text/plain": [
              "   x  y  z \n",
              "1   0 20 30\n",
              "2   1 21 31\n",
              "3   2 22 32\n",
              "4   3 23 33\n",
              "5   4 24 34\n",
              "6   5 25 35\n",
              "7   6 26 36\n",
              "8   7 27 37\n",
              "9   8 28 38\n",
              "10  9 29 39\n",
              "11 10 30 40"
            ]
          },
          "metadata": {}
        }
      ],
      "source": [
        "cat(\"test \", \"hello world\\n\\n\\n\")\n",
        "\n",
        "c <- data.frame(x = 0:10, y = 20:30, z= 30:40)\n",
        "\n",
        "c"
      ]
    }
  ]
}